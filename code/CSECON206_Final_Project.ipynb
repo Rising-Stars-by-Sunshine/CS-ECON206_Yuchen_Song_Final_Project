{
  "nbformat": 4,
  "nbformat_minor": 0,
  "metadata": {
    "colab": {
      "provenance": []
    },
    "kernelspec": {
      "name": "python3",
      "display_name": "Python 3"
    },
    "language_info": {
      "name": "python"
    }
  },
  "cells": [
    {
      "cell_type": "markdown",
      "source": [
        "**Modified Chicken Game**"
      ],
      "metadata": {
        "id": "ryg8wNTTCF14"
      }
    },
    {
      "cell_type": "code",
      "execution_count": null,
      "metadata": {
        "colab": {
          "base_uri": "https://localhost:8080/"
        },
        "id": "DRbIDvLsuVlC",
        "outputId": "55507b0c-3e60-4e27-9d28-fa220df418ba"
      },
      "outputs": [
        {
          "output_type": "stream",
          "name": "stdout",
          "text": [
            "Looking in indexes: https://pypi.org/simple, https://us-python.pkg.dev/colab-wheels/public/simple/\n",
            "Requirement already satisfied: setuptools in /usr/local/lib/python3.10/dist-packages (67.7.2)\n",
            "Looking in indexes: https://pypi.org/simple, https://us-python.pkg.dev/colab-wheels/public/simple/\n",
            "Requirement already satisfied: pip in /usr/local/lib/python3.10/dist-packages (23.1.2)\n",
            "Looking in indexes: https://pypi.org/simple, https://us-python.pkg.dev/colab-wheels/public/simple/\n",
            "Collecting nashpy\n",
            "  Downloading nashpy-0.0.37-py3-none-any.whl (26 kB)\n",
            "Requirement already satisfied: numpy>=1.21.0 in /usr/local/lib/python3.10/dist-packages (from nashpy) (1.22.4)\n",
            "Requirement already satisfied: scipy>=0.19.0 in /usr/local/lib/python3.10/dist-packages (from nashpy) (1.10.1)\n",
            "Requirement already satisfied: networkx>=3.0.0 in /usr/local/lib/python3.10/dist-packages (from nashpy) (3.1)\n",
            "Installing collected packages: nashpy\n",
            "Successfully installed nashpy-0.0.37\n",
            "Looking in indexes: https://pypi.org/simple, https://us-python.pkg.dev/colab-wheels/public/simple/\n",
            "Collecting quantecon\n",
            "  Downloading quantecon-0.7.0-py3-none-any.whl (214 kB)\n",
            "\u001b[2K     \u001b[90m━━━━━━━━━━━━━━━━━━━━━━━━━━━━━━━━━━━━━━━\u001b[0m \u001b[32m214.8/214.8 kB\u001b[0m \u001b[31m5.3 MB/s\u001b[0m eta \u001b[36m0:00:00\u001b[0m\n",
            "\u001b[?25hRequirement already satisfied: numba>=0.49.0 in /usr/local/lib/python3.10/dist-packages (from quantecon) (0.56.4)\n",
            "Requirement already satisfied: numpy>=1.17.0 in /usr/local/lib/python3.10/dist-packages (from quantecon) (1.22.4)\n",
            "Requirement already satisfied: requests in /usr/local/lib/python3.10/dist-packages (from quantecon) (2.27.1)\n",
            "Requirement already satisfied: scipy>=1.5.0 in /usr/local/lib/python3.10/dist-packages (from quantecon) (1.10.1)\n",
            "Requirement already satisfied: sympy in /usr/local/lib/python3.10/dist-packages (from quantecon) (1.11.1)\n",
            "Requirement already satisfied: llvmlite<0.40,>=0.39.0dev0 in /usr/local/lib/python3.10/dist-packages (from numba>=0.49.0->quantecon) (0.39.1)\n",
            "Requirement already satisfied: setuptools in /usr/local/lib/python3.10/dist-packages (from numba>=0.49.0->quantecon) (67.7.2)\n",
            "Requirement already satisfied: urllib3<1.27,>=1.21.1 in /usr/local/lib/python3.10/dist-packages (from requests->quantecon) (1.26.15)\n",
            "Requirement already satisfied: certifi>=2017.4.17 in /usr/local/lib/python3.10/dist-packages (from requests->quantecon) (2022.12.7)\n",
            "Requirement already satisfied: charset-normalizer~=2.0.0 in /usr/local/lib/python3.10/dist-packages (from requests->quantecon) (2.0.12)\n",
            "Requirement already satisfied: idna<4,>=2.5 in /usr/local/lib/python3.10/dist-packages (from requests->quantecon) (3.4)\n",
            "Requirement already satisfied: mpmath>=0.19 in /usr/local/lib/python3.10/dist-packages (from sympy->quantecon) (1.3.0)\n",
            "Installing collected packages: quantecon\n",
            "Successfully installed quantecon-0.7.0\n"
          ]
        }
      ],
      "source": [
        "# install the tools you will use later\n",
        "!pip install --upgrade setuptools\n",
        "!pip install --upgrade pip\n",
        "!pip install nashpy\n",
        "!pip install quantecon"
      ]
    },
    {
      "cell_type": "markdown",
      "source": [
        "The game is based on a classical game in game theory literature, Chicken Game, which is a model of conflict between risk-taking and risk-avoidance of two players. One of the classical game scenarios is when two drivers drive toward each other, each can choose to swerve or straight. If one of them chooses to swerve and the other chooses to straight, the former one will be seen as chickening out and will receive a lower payoff (2), while the latter one will receive a higher payoff (7) since he is braver. If both choose to swerve, it will be a tie, and both receive a moderate payoff (6,6). While, if both players choose to straight, they will crash into each other, and receives a zero payoff, since they fail to avoid the risk. In the modified version, one additional rule is that both players can choose whether to spy at the beginning of the game, if so, he will pay 1 payoff at last. The game has two rounds, and the total payoff is the sum of the payoff in two rounds."
      ],
      "metadata": {
        "id": "H-ZqbROrCLqj"
      }
    },
    {
      "cell_type": "markdown",
      "source": [
        "Case 1: Neither player choose to use spies."
      ],
      "metadata": {
        "id": "a6ZtADnSD0wy"
      }
    },
    {
      "cell_type": "code",
      "source": [
        "import nashpy as nash\n",
        "import numpy as np\n",
        "\n",
        "# Creater the game with the payoff matrix\n",
        "\n",
        "A = np.array([[0, 7],\n",
        "        [2, 6]]) # A is the row player\n",
        "\n",
        "B = np.array([[0, 2],\n",
        "        [7, 6]]) # B is the column player\n",
        "     "
      ],
      "metadata": {
        "id": "1HN4fW9QcmZk"
      },
      "execution_count": null,
      "outputs": []
    },
    {
      "cell_type": "code",
      "source": [
        "# Form the game\n",
        "game2 = nash.Game(A,B)\n",
        "game2"
      ],
      "metadata": {
        "colab": {
          "base_uri": "https://localhost:8080/"
        },
        "id": "evkYU63FDHzo",
        "outputId": "0496f056-71f3-482d-d346-2a11c9d5f09c"
      },
      "execution_count": null,
      "outputs": [
        {
          "output_type": "execute_result",
          "data": {
            "text/plain": [
              "Bi matrix game with payoff matrices:\n",
              "\n",
              "Row player:\n",
              "[[0 7]\n",
              " [2 6]]\n",
              "\n",
              "Column player:\n",
              "[[0 2]\n",
              " [7 6]]"
            ]
          },
          "metadata": {},
          "execution_count": 3
        }
      ]
    },
    {
      "cell_type": "code",
      "source": [
        "# Find the Nash Equilibrium with Support Enumeration\n",
        "equilibria = game2.support_enumeration()\n",
        "for eq in equilibria:\n",
        "    print(eq)"
      ],
      "metadata": {
        "colab": {
          "base_uri": "https://localhost:8080/"
        },
        "id": "rmzFuSJZDKNp",
        "outputId": "5c65cbf2-7a4a-4639-c296-80e01e424e77"
      },
      "execution_count": null,
      "outputs": [
        {
          "output_type": "stream",
          "name": "stdout",
          "text": [
            "(array([1., 0.]), array([0., 1.]))\n",
            "(array([0., 1.]), array([1., 0.]))\n",
            "(array([0.33333333, 0.66666667]), array([0.33333333, 0.66666667]))\n"
          ]
        }
      ]
    },
    {
      "cell_type": "markdown",
      "source": [
        "In this case, there are three Nash equilibriums:\n",
        "\n",
        "1.Player A swerves, and Player B goes straight. In this case, the payoff is 2 and 7.\n",
        "\n",
        "2.Player A goes straight and player B swerves. In this case, the payoff is 7 or 2.\n",
        "\n",
        "In both equilibrium, for the player who chooses straight, the expectation is 1/2x(0+7)=3.5, for the player who chooses swerve, the expectation is 1/2x(2+6)=4. Because the expectation for choosing swerve is higher, both player tend to choose swerve if they are rational.\n",
        "\n",
        "3.This is a mixed strategies. Player A and player B swerves with probability 1/3 and goes straight with probability 2/3\n",
        "\n",
        "In this equlibrium, the expectation for both player is 1/3x1/2x(2+6)+2/3x1/2x(0+7)=3, which is even lower than the pure strategies. "
      ],
      "metadata": {
        "id": "7xy2d750DUI0"
      }
    },
    {
      "cell_type": "markdown",
      "source": [
        "Case 2: Both players choose to use spies."
      ],
      "metadata": {
        "id": "kuMV4reJEF6A"
      }
    },
    {
      "cell_type": "code",
      "source": [
        "import nashpy as nash\n",
        "import numpy as np\n",
        "\n",
        "# Creater the game with the payoff matrix\n",
        "\n",
        "A = np.array([[-1, 6],\n",
        "        [1, 5]]) # A is the row player\n",
        "\n",
        "B = np.array([[-1, 1],\n",
        "        [6, 5]]) # B is the column player"
      ],
      "metadata": {
        "id": "lL5ZWy4uueb1"
      },
      "execution_count": null,
      "outputs": []
    },
    {
      "cell_type": "code",
      "source": [
        "# Form the game\n",
        "game2 = nash.Game(A,B)\n",
        "game2"
      ],
      "metadata": {
        "colab": {
          "base_uri": "https://localhost:8080/"
        },
        "id": "AKXqqOhzvnEi",
        "outputId": "eac87d3c-68f6-4d11-bb30-32de42b96a3b"
      },
      "execution_count": null,
      "outputs": [
        {
          "output_type": "execute_result",
          "data": {
            "text/plain": [
              "Bi matrix game with payoff matrices:\n",
              "\n",
              "Row player:\n",
              "[[-1  6]\n",
              " [ 1  5]]\n",
              "\n",
              "Column player:\n",
              "[[-1  1]\n",
              " [ 6  5]]"
            ]
          },
          "metadata": {},
          "execution_count": 6
        }
      ]
    },
    {
      "cell_type": "code",
      "source": [
        "# Find the Nash Equilibrium with Support Enumeration\n",
        "equilibria = game2.support_enumeration()\n",
        "for eq in equilibria:\n",
        "    print(eq)"
      ],
      "metadata": {
        "colab": {
          "base_uri": "https://localhost:8080/"
        },
        "id": "tQQlvSQBvpld",
        "outputId": "127551be-facd-4292-9b7d-21679c56d369"
      },
      "execution_count": null,
      "outputs": [
        {
          "output_type": "stream",
          "name": "stdout",
          "text": [
            "(array([1., 0.]), array([0., 1.]))\n",
            "(array([0., 1.]), array([1., 0.]))\n",
            "(array([0.33333333, 0.66666667]), array([0.33333333, 0.66666667]))\n"
          ]
        }
      ]
    },
    {
      "cell_type": "markdown",
      "source": [
        "In this case, there are three Nash equilibriums:\n",
        "\n",
        "1.Player A swerves, and Player B goes straight. In this case, the payoff is 2 and 7.\n",
        "\n",
        "2.Player A goes straight and player B swerves. In this case, the payoff is 7 or 2.\n",
        "\n",
        "In both equilibrium, for the player who chooses straight, the expectation is 1/2x(-1+6)=2.5, for the player who chooses swerve, the expectation is 1/2x(1+5)=3. Because the expectation for choosing swerve is higher, both player tend to choose swerve if they are rational.\n",
        "\n",
        "3.This is a mixed strategies. Player A and player B swerves with probability 1/3 and goes straight with probability 2/3.\n",
        "\n",
        "In this equlibrium, the expectation for both player is 1/3x1/2x(1+5)+2/3x1/2x(-1+6)=2.67, which is even lower than the pure strategies. "
      ],
      "metadata": {
        "id": "BFYtrR87EUUD"
      }
    },
    {
      "cell_type": "markdown",
      "source": [
        "Case 3: One players choose to use spies."
      ],
      "metadata": {
        "id": "L6SjHHXOJLJm"
      }
    },
    {
      "cell_type": "code",
      "source": [
        "import nashpy as nash\n",
        "import numpy as np\n",
        "\n",
        "# Creater the game with the payoff matrix\n",
        "\n",
        "A = np.array([[-1, 6],\n",
        "        [1, 5]]) # A is the row player\n",
        "\n",
        "B = np.array([[0, 2],\n",
        "        [7, 6]]) # B is the column player"
      ],
      "metadata": {
        "id": "B6pvrUeLJW_M"
      },
      "execution_count": 9,
      "outputs": []
    },
    {
      "cell_type": "code",
      "source": [
        "# Form the game\n",
        "game2 = nash.Game(A,B)\n",
        "game2"
      ],
      "metadata": {
        "colab": {
          "base_uri": "https://localhost:8080/"
        },
        "id": "7j6IsF9DJYz5",
        "outputId": "871efce0-4061-48ec-c1da-6ca98e23414d"
      },
      "execution_count": 10,
      "outputs": [
        {
          "output_type": "execute_result",
          "data": {
            "text/plain": [
              "Bi matrix game with payoff matrices:\n",
              "\n",
              "Row player:\n",
              "[[-1  6]\n",
              " [ 1  5]]\n",
              "\n",
              "Column player:\n",
              "[[0 2]\n",
              " [7 6]]"
            ]
          },
          "metadata": {},
          "execution_count": 10
        }
      ]
    },
    {
      "cell_type": "code",
      "source": [
        "# Find the Nash Equilibrium with Support Enumeration\n",
        "equilibria = game2.support_enumeration()\n",
        "for eq in equilibria:\n",
        "    print(eq)"
      ],
      "metadata": {
        "colab": {
          "base_uri": "https://localhost:8080/"
        },
        "id": "nFCqo6DYJZUd",
        "outputId": "a7e00553-ac60-4234-afe2-97298e514e5f"
      },
      "execution_count": 12,
      "outputs": [
        {
          "output_type": "stream",
          "name": "stdout",
          "text": [
            "(array([1., 0.]), array([0., 1.]))\n",
            "(array([0., 1.]), array([1., 0.]))\n",
            "(array([0.33333333, 0.66666667]), array([0.33333333, 0.66666667]))\n"
          ]
        }
      ]
    },
    {
      "cell_type": "markdown",
      "source": [
        "In this case, there are three Nash equilibriums:\n",
        "\n",
        "1.Player A swerves, and Player B goes straight. In this case, the payoff is 2 and 7.\n",
        "\n",
        "2.Player A goes straight and player B swerves. In this case, the payoff is 7 or 2.\n",
        "\n",
        "3.This is a mixed strategy. Player A and player B swerve with probability 1/3 and go straight with probability 2/3.\n",
        "\n",
        "However, in this case, Nash Equilibrium cannot be true in real-word situations. Because if one player uses spies, and he knows his opponent will chooses swerve, he must choose straight to maximize his own payoff. Meanwhile, if the opponent knows that the player uses spies, he may choose straight to retaliate this distrust behavior. Therefore, the equilibrium is unstable."
      ],
      "metadata": {
        "id": "SkhiWP0cKG1S"
      }
    }
  ]
}